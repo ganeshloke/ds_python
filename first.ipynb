{
  "nbformat": 4,
  "nbformat_minor": 0,
  "metadata": {
    "colab": {
      "provenance": []
    },
    "language_info": {
      "name": "python"
    },
    "kernelspec": {
      "name": "python3",
      "display_name": "Python 3"
    }
  },
  "cells": [
    {
      "cell_type": "code",
      "source": [
        "age=int(input(\"Age:\"))\n",
        "\n",
        "if (age<13):\n",
        "    print(\"Child\")\n",
        "elif(age>=13 and age<=18):\n",
        "    print(\"Teenager\")\n",
        "elif(age>=19 and age<=150):\n",
        "    print(\"Adult\")\n",
        "else:\n",
        "    print(\"Invalid Age\")"
      ],
      "metadata": {
        "colab": {
          "base_uri": "https://localhost:8080/"
        },
        "id": "XPcZUtKQmxga",
        "outputId": "e9029ce6-09ed-4f77-b09a-2c991e7a6c64"
      },
      "execution_count": 2,
      "outputs": [
        {
          "output_type": "stream",
          "name": "stdout",
          "text": [
            "Age:18\n",
            "Teenager\n"
          ]
        }
      ]
    },
    {
      "cell_type": "code",
      "source": [
        "num1=float(input(\"Enter number 1: \"))\n",
        "num2=float(input(\"Enter number 2: \"))\n",
        "op=input('Enter the operation : +, -, /, %')\n",
        "if (op == '+'):\n",
        "  print(num1+num2)\n",
        "elif (op =='-'):\n",
        "  print(num1-num2)\n",
        "elif (op=='%'):\n",
        "  print(num1%num2)\n",
        "elif (op=='/'):\n",
        "  if num2==0:\n",
        "    print('Divide by Zero is Infinity')\n",
        "  else:\n",
        "    print(num1/num2)"
      ],
      "metadata": {
        "id": "afM_tY2hnq7u",
        "outputId": "4b9bfc1e-9222-48df-88aa-9950d52f38be",
        "colab": {
          "base_uri": "https://localhost:8080/"
        }
      },
      "execution_count": 6,
      "outputs": [
        {
          "output_type": "stream",
          "name": "stdout",
          "text": [
            "Enter number 1: 12.3\n",
            "Enter number 2: 23.2\n",
            "Enter the operation : +, -, /, %/\n",
            "0.5301724137931035\n"
          ]
        }
      ]
    }
  ]
}