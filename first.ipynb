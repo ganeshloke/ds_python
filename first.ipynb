{
  "nbformat": 4,
  "nbformat_minor": 0,
  "metadata": {
    "colab": {
      "provenance": []
    },
    "language_info": {
      "name": "python"
    },
    "kernelspec": {
      "name": "python3",
      "display_name": "Python 3"
    }
  },
  "cells": [
    {
      "cell_type": "code",
      "source": [
        "age=int(input(\"Age:\"))\n",
        "\n",
        "if (age<13):\n",
        "    print(\"Child\")\n",
        "elif(age>=13 and age<=18):\n",
        "    print(\"Teenager\")\n",
        "elif(age>=19 and age<=150):\n",
        "    print(\"Adult\")\n",
        "else:\n",
        "    print(\"Invalid Age\")"
      ],
      "metadata": {
        "id": "XPcZUtKQmxga",
        "outputId": "e9029ce6-09ed-4f77-b09a-2c991e7a6c64",
        "colab": {
          "base_uri": "https://localhost:8080/"
        }
      },
      "execution_count": 2,
      "outputs": [
        {
          "output_type": "stream",
          "name": "stdout",
          "text": [
            "Age:18\n",
            "Teenager\n"
          ]
        }
      ]
    }
  ]
}