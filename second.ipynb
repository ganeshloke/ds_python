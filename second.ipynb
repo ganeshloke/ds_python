{
  "nbformat": 4,
  "nbformat_minor": 0,
  "metadata": {
    "colab": {
      "provenance": []
    },
    "language_info": {
      "name": "python"
    },
    "kernelspec": {
      "name": "python3",
      "display_name": "Python 3"
    }
  },
  "cells": [
    {
      "cell_type": "code",
      "source": [
        "age=int(input(\"Age:\"))\n",
        "\n",
        "if (age<13):\n",
        "    print(\"Child\")\n",
        "elif(age>=13 and age<=18):\n",
        "    print(\"Teenager\")\n",
        "elif(age>=19 and age<=150):\n",
        "    print(\"Adult\")\n",
        "else:\n",
        "    print(\"Invalid Age\")"
      ],
      "metadata": {
        "colab": {
          "base_uri": "https://localhost:8080/"
        },
        "id": "XPcZUtKQmxga",
        "outputId": "e9029ce6-09ed-4f77-b09a-2c991e7a6c64"
      },
      "execution_count": null,
      "outputs": [
        {
          "output_type": "stream",
          "name": "stdout",
          "text": [
            "Age:18\n",
            "Teenager\n"
          ]
        }
      ]
    },
    {
      "cell_type": "code",
      "source": [
        "num1=float(input(\"Enter number 1: \"))\n",
        "num2=float(input(\"Enter number 2: \"))\n",
        "op=input('Enter the operation : +, -, /, %')\n",
        "if (op == '+'):\n",
        "  print(num1+num2)\n",
        "elif (op =='-'):\n",
        "  print(num1-num2)\n",
        "elif (op=='%'):\n",
        "  print(num1%num2)\n",
        "elif (op=='/'):\n",
        "  if num2==0:\n",
        "    print('Divide by Zero is Infinity')\n",
        "  else:\n",
        "    print(num1/num2)"
      ],
      "metadata": {
        "colab": {
          "base_uri": "https://localhost:8080/"
        },
        "id": "afM_tY2hnq7u",
        "outputId": "4b9bfc1e-9222-48df-88aa-9950d52f38be"
      },
      "execution_count": null,
      "outputs": [
        {
          "output_type": "stream",
          "name": "stdout",
          "text": [
            "Enter number 1: 12.3\n",
            "Enter number 2: 23.2\n",
            "Enter the operation : +, -, /, %/\n",
            "0.5301724137931035\n"
          ]
        }
      ]
    },
    {
      "cell_type": "code",
      "source": [
        "username='ganesh'\n",
        "password='pass'\n",
        "\n",
        "username1=input(\"Enter Username Login\")\n",
        "password1=input(\"Enter Password Login\")\n",
        "\n",
        "if(username1==username and password1==password):\n",
        "  print('login successfull')\n",
        "elif(username1==username and password1!=password):\n",
        "  print('username is correct , password is wrong')\n",
        "elif(username1!=username and password1==password):\n",
        "  print('username is incorrect , password is correct')\n",
        "else:\n",
        "  print('trya again')\n"
      ],
      "metadata": {
        "id": "X58S6B64oU_K",
        "outputId": "4d59b2d1-e450-41e9-c15a-597304604cb2",
        "colab": {
          "base_uri": "https://localhost:8080/"
        }
      },
      "execution_count": null,
      "outputs": [
        {
          "output_type": "stream",
          "name": "stdout",
          "text": [
            "Enter Username Loginganesh\n",
            "Enter Password Loginpass\n",
            "login successfull\n"
          ]
        }
      ]
    },
    {
      "cell_type": "code",
      "source": [
        "rating=float(input('Enter rating '))\n",
        "salary=float(input('Enter salary '))\n",
        "y=int(input('Enter experience '))\n",
        "bonusper=0\n",
        "\n",
        "if(rating>=4.5):\n",
        "  if(y>10):\n",
        "    bonusper=20\n",
        "  elif(y>5):\n",
        "    bonusper=10\n",
        "  else:\n",
        "    bonusper=5\n",
        "elif(rating>=3.5):\n",
        "  if(y>10):\n",
        "    bonusper=10\n",
        "  elif(y>5):\n",
        "    bonusper=5\n",
        "  else:\n",
        "    bonusper=1\n",
        "else:\n",
        "  bonusper=0\n",
        "\n",
        "bonusamount=bonusper*salary/100\n",
        "print('Bonus amount : ',bonusamount)\n"
      ],
      "metadata": {
        "colab": {
          "base_uri": "https://localhost:8080/"
        },
        "id": "Kk-C7Zbis7Ds",
        "outputId": "ca74efbe-d893-48bb-c793-585d40fe8c68"
      },
      "execution_count": null,
      "outputs": [
        {
          "output_type": "stream",
          "name": "stdout",
          "text": [
            "Enter rating5\n",
            "Enter salary5000\n",
            "Enter experience12\n",
            "1000.0\n"
          ]
        }
      ]
    },
    {
      "cell_type": "markdown",
      "source": [],
      "metadata": {
        "id": "X95oHESPycG0"
      }
    },
    {
      "cell_type": "code",
      "source": [
        "for i in range(11,1,-1):\n",
        "  print('* '*i)"
      ],
      "metadata": {
        "id": "ta2iGYgAzbm7",
        "outputId": "6f7b5dc4-4ffe-493e-9da7-4e968c5013e2",
        "colab": {
          "base_uri": "https://localhost:8080/"
        }
      },
      "execution_count": null,
      "outputs": [
        {
          "output_type": "stream",
          "name": "stdout",
          "text": [
            "* * * * * * * * * * * \n",
            "* * * * * * * * * * \n",
            "* * * * * * * * * \n",
            "* * * * * * * * \n",
            "* * * * * * * \n",
            "* * * * * * \n",
            "* * * * * \n",
            "* * * * \n",
            "* * * \n",
            "* * \n"
          ]
        }
      ]
    },
    {
      "cell_type": "code",
      "source": [
        "for i in range(11,1,-1):\n",
        "  if(i%2==0):\n",
        "    print('* '*10)\n",
        "  else:\n",
        "    print('')"
      ],
      "metadata": {
        "id": "Yo1zrMPYzzpC",
        "outputId": "fb9990c5-04db-41b5-d3af-d0075ce65ddc",
        "colab": {
          "base_uri": "https://localhost:8080/"
        }
      },
      "execution_count": null,
      "outputs": [
        {
          "output_type": "stream",
          "name": "stdout",
          "text": [
            "\n",
            "* * * * * * * * * * \n",
            "\n",
            "* * * * * * * * * * \n",
            "\n",
            "* * * * * * * * * * \n",
            "\n",
            "* * * * * * * * * * \n",
            "\n",
            "* * * * * * * * * * \n"
          ]
        }
      ]
    },
    {
      "cell_type": "code",
      "source": [
        "num=int(input('Enter number'))\n",
        "sum=0;\n",
        "\n",
        "for i in range(0,num):\n",
        "  print(i)\n",
        "  sum=sum+i\n",
        "\n",
        "print(sum)\n"
      ],
      "metadata": {
        "id": "6K1SdtJ92NdX",
        "outputId": "52923965-a831-4295-e905-9a90e0b84cd2",
        "colab": {
          "base_uri": "https://localhost:8080/"
        }
      },
      "execution_count": null,
      "outputs": [
        {
          "output_type": "stream",
          "name": "stdout",
          "text": [
            "Enter number5\n",
            "0\n",
            "1\n",
            "2\n",
            "3\n",
            "4\n",
            "10\n"
          ]
        }
      ]
    },
    {
      "cell_type": "code",
      "source": [
        "for i in range(7):\n",
        "  for j in range(7):\n",
        "    for k in range(7):\n",
        "      print(i,j,k)\n",
        "    print('----------')\n"
      ],
      "metadata": {
        "collapsed": true,
        "id": "3fakRA7R49F3",
        "outputId": "3196d1cd-3c0c-4fe1-ef73-911bde80295c",
        "colab": {
          "base_uri": "https://localhost:8080/"
        }
      },
      "execution_count": null,
      "outputs": [
        {
          "output_type": "stream",
          "name": "stdout",
          "text": [
            "0 0 0\n",
            "0 0 1\n",
            "0 0 2\n",
            "0 0 3\n",
            "0 0 4\n",
            "0 0 5\n",
            "0 0 6\n",
            "----------\n",
            "0 1 0\n",
            "0 1 1\n",
            "0 1 2\n",
            "0 1 3\n",
            "0 1 4\n",
            "0 1 5\n",
            "0 1 6\n",
            "----------\n",
            "0 2 0\n",
            "0 2 1\n",
            "0 2 2\n",
            "0 2 3\n",
            "0 2 4\n",
            "0 2 5\n",
            "0 2 6\n",
            "----------\n",
            "0 3 0\n",
            "0 3 1\n",
            "0 3 2\n",
            "0 3 3\n",
            "0 3 4\n",
            "0 3 5\n",
            "0 3 6\n",
            "----------\n",
            "0 4 0\n",
            "0 4 1\n",
            "0 4 2\n",
            "0 4 3\n",
            "0 4 4\n",
            "0 4 5\n",
            "0 4 6\n",
            "----------\n",
            "0 5 0\n",
            "0 5 1\n",
            "0 5 2\n",
            "0 5 3\n",
            "0 5 4\n",
            "0 5 5\n",
            "0 5 6\n",
            "----------\n",
            "0 6 0\n",
            "0 6 1\n",
            "0 6 2\n",
            "0 6 3\n",
            "0 6 4\n",
            "0 6 5\n",
            "0 6 6\n",
            "----------\n",
            "1 0 0\n",
            "1 0 1\n",
            "1 0 2\n",
            "1 0 3\n",
            "1 0 4\n",
            "1 0 5\n",
            "1 0 6\n",
            "----------\n",
            "1 1 0\n",
            "1 1 1\n",
            "1 1 2\n",
            "1 1 3\n",
            "1 1 4\n",
            "1 1 5\n",
            "1 1 6\n",
            "----------\n",
            "1 2 0\n",
            "1 2 1\n",
            "1 2 2\n",
            "1 2 3\n",
            "1 2 4\n",
            "1 2 5\n",
            "1 2 6\n",
            "----------\n",
            "1 3 0\n",
            "1 3 1\n",
            "1 3 2\n",
            "1 3 3\n",
            "1 3 4\n",
            "1 3 5\n",
            "1 3 6\n",
            "----------\n",
            "1 4 0\n",
            "1 4 1\n",
            "1 4 2\n",
            "1 4 3\n",
            "1 4 4\n",
            "1 4 5\n",
            "1 4 6\n",
            "----------\n",
            "1 5 0\n",
            "1 5 1\n",
            "1 5 2\n",
            "1 5 3\n",
            "1 5 4\n",
            "1 5 5\n",
            "1 5 6\n",
            "----------\n",
            "1 6 0\n",
            "1 6 1\n",
            "1 6 2\n",
            "1 6 3\n",
            "1 6 4\n",
            "1 6 5\n",
            "1 6 6\n",
            "----------\n",
            "2 0 0\n",
            "2 0 1\n",
            "2 0 2\n",
            "2 0 3\n",
            "2 0 4\n",
            "2 0 5\n",
            "2 0 6\n",
            "----------\n",
            "2 1 0\n",
            "2 1 1\n",
            "2 1 2\n",
            "2 1 3\n",
            "2 1 4\n",
            "2 1 5\n",
            "2 1 6\n",
            "----------\n",
            "2 2 0\n",
            "2 2 1\n",
            "2 2 2\n",
            "2 2 3\n",
            "2 2 4\n",
            "2 2 5\n",
            "2 2 6\n",
            "----------\n",
            "2 3 0\n",
            "2 3 1\n",
            "2 3 2\n",
            "2 3 3\n",
            "2 3 4\n",
            "2 3 5\n",
            "2 3 6\n",
            "----------\n",
            "2 4 0\n",
            "2 4 1\n",
            "2 4 2\n",
            "2 4 3\n",
            "2 4 4\n",
            "2 4 5\n",
            "2 4 6\n",
            "----------\n",
            "2 5 0\n",
            "2 5 1\n",
            "2 5 2\n",
            "2 5 3\n",
            "2 5 4\n",
            "2 5 5\n",
            "2 5 6\n",
            "----------\n",
            "2 6 0\n",
            "2 6 1\n",
            "2 6 2\n",
            "2 6 3\n",
            "2 6 4\n",
            "2 6 5\n",
            "2 6 6\n",
            "----------\n",
            "3 0 0\n",
            "3 0 1\n",
            "3 0 2\n",
            "3 0 3\n",
            "3 0 4\n",
            "3 0 5\n",
            "3 0 6\n",
            "----------\n",
            "3 1 0\n",
            "3 1 1\n",
            "3 1 2\n",
            "3 1 3\n",
            "3 1 4\n",
            "3 1 5\n",
            "3 1 6\n",
            "----------\n",
            "3 2 0\n",
            "3 2 1\n",
            "3 2 2\n",
            "3 2 3\n",
            "3 2 4\n",
            "3 2 5\n",
            "3 2 6\n",
            "----------\n",
            "3 3 0\n",
            "3 3 1\n",
            "3 3 2\n",
            "3 3 3\n",
            "3 3 4\n",
            "3 3 5\n",
            "3 3 6\n",
            "----------\n",
            "3 4 0\n",
            "3 4 1\n",
            "3 4 2\n",
            "3 4 3\n",
            "3 4 4\n",
            "3 4 5\n",
            "3 4 6\n",
            "----------\n",
            "3 5 0\n",
            "3 5 1\n",
            "3 5 2\n",
            "3 5 3\n",
            "3 5 4\n",
            "3 5 5\n",
            "3 5 6\n",
            "----------\n",
            "3 6 0\n",
            "3 6 1\n",
            "3 6 2\n",
            "3 6 3\n",
            "3 6 4\n",
            "3 6 5\n",
            "3 6 6\n",
            "----------\n",
            "4 0 0\n",
            "4 0 1\n",
            "4 0 2\n",
            "4 0 3\n",
            "4 0 4\n",
            "4 0 5\n",
            "4 0 6\n",
            "----------\n",
            "4 1 0\n",
            "4 1 1\n",
            "4 1 2\n",
            "4 1 3\n",
            "4 1 4\n",
            "4 1 5\n",
            "4 1 6\n",
            "----------\n",
            "4 2 0\n",
            "4 2 1\n",
            "4 2 2\n",
            "4 2 3\n",
            "4 2 4\n",
            "4 2 5\n",
            "4 2 6\n",
            "----------\n",
            "4 3 0\n",
            "4 3 1\n",
            "4 3 2\n",
            "4 3 3\n",
            "4 3 4\n",
            "4 3 5\n",
            "4 3 6\n",
            "----------\n",
            "4 4 0\n",
            "4 4 1\n",
            "4 4 2\n",
            "4 4 3\n",
            "4 4 4\n",
            "4 4 5\n",
            "4 4 6\n",
            "----------\n",
            "4 5 0\n",
            "4 5 1\n",
            "4 5 2\n",
            "4 5 3\n",
            "4 5 4\n",
            "4 5 5\n",
            "4 5 6\n",
            "----------\n",
            "4 6 0\n",
            "4 6 1\n",
            "4 6 2\n",
            "4 6 3\n",
            "4 6 4\n",
            "4 6 5\n",
            "4 6 6\n",
            "----------\n",
            "5 0 0\n",
            "5 0 1\n",
            "5 0 2\n",
            "5 0 3\n",
            "5 0 4\n",
            "5 0 5\n",
            "5 0 6\n",
            "----------\n",
            "5 1 0\n",
            "5 1 1\n",
            "5 1 2\n",
            "5 1 3\n",
            "5 1 4\n",
            "5 1 5\n",
            "5 1 6\n",
            "----------\n",
            "5 2 0\n",
            "5 2 1\n",
            "5 2 2\n",
            "5 2 3\n",
            "5 2 4\n",
            "5 2 5\n",
            "5 2 6\n",
            "----------\n",
            "5 3 0\n",
            "5 3 1\n",
            "5 3 2\n",
            "5 3 3\n",
            "5 3 4\n",
            "5 3 5\n",
            "5 3 6\n",
            "----------\n",
            "5 4 0\n",
            "5 4 1\n",
            "5 4 2\n",
            "5 4 3\n",
            "5 4 4\n",
            "5 4 5\n",
            "5 4 6\n",
            "----------\n",
            "5 5 0\n",
            "5 5 1\n",
            "5 5 2\n",
            "5 5 3\n",
            "5 5 4\n",
            "5 5 5\n",
            "5 5 6\n",
            "----------\n",
            "5 6 0\n",
            "5 6 1\n",
            "5 6 2\n",
            "5 6 3\n",
            "5 6 4\n",
            "5 6 5\n",
            "5 6 6\n",
            "----------\n",
            "6 0 0\n",
            "6 0 1\n",
            "6 0 2\n",
            "6 0 3\n",
            "6 0 4\n",
            "6 0 5\n",
            "6 0 6\n",
            "----------\n",
            "6 1 0\n",
            "6 1 1\n",
            "6 1 2\n",
            "6 1 3\n",
            "6 1 4\n",
            "6 1 5\n",
            "6 1 6\n",
            "----------\n",
            "6 2 0\n",
            "6 2 1\n",
            "6 2 2\n",
            "6 2 3\n",
            "6 2 4\n",
            "6 2 5\n",
            "6 2 6\n",
            "----------\n",
            "6 3 0\n",
            "6 3 1\n",
            "6 3 2\n",
            "6 3 3\n",
            "6 3 4\n",
            "6 3 5\n",
            "6 3 6\n",
            "----------\n",
            "6 4 0\n",
            "6 4 1\n",
            "6 4 2\n",
            "6 4 3\n",
            "6 4 4\n",
            "6 4 5\n",
            "6 4 6\n",
            "----------\n",
            "6 5 0\n",
            "6 5 1\n",
            "6 5 2\n",
            "6 5 3\n",
            "6 5 4\n",
            "6 5 5\n",
            "6 5 6\n",
            "----------\n",
            "6 6 0\n",
            "6 6 1\n",
            "6 6 2\n",
            "6 6 3\n",
            "6 6 4\n",
            "6 6 5\n",
            "6 6 6\n",
            "----------\n"
          ]
        }
      ]
    },
    {
      "cell_type": "markdown",
      "source": [
        "#Data Structure"
      ],
      "metadata": {
        "id": "Au61ESOy5aTe"
      }
    },
    {
      "cell_type": "code",
      "source": [
        "# user 1\n",
        "# list\n",
        "\n",
        "user_1=['Harsh' , 50 , 60 , 70 , True]\n"
      ],
      "metadata": {
        "id": "2g5QYe_d5cpV"
      },
      "execution_count": null,
      "outputs": []
    },
    {
      "cell_type": "code",
      "source": [
        "isfound = False\n",
        "\n",
        "for i in user_1:\n",
        "  if(i=='Harsh'):\n",
        "    isfound=True\n",
        "\n",
        "if isfound==True:\n",
        "  print('Harsh Found')\n",
        "else:\n",
        "  print('Not Found')\n",
        "\n"
      ],
      "metadata": {
        "id": "UNsDJ1gI7_C5",
        "outputId": "f9d762d3-3ea5-4459-a3b5-6b3d30f5d64a",
        "colab": {
          "base_uri": "https://localhost:8080/"
        }
      },
      "execution_count": null,
      "outputs": [
        {
          "output_type": "stream",
          "name": "stdout",
          "text": [
            "Harsh Found\n"
          ]
        }
      ]
    },
    {
      "cell_type": "code",
      "source": [
        "lst1=[10,22,30,33,44,53,66]\n",
        "lst2=[]\n",
        "\n",
        "for i in lst1:\n",
        "  if(i%2==0):\n",
        "    lst2.append(i)\n",
        "print(lst2)\n",
        "\n"
      ],
      "metadata": {
        "id": "FsdYpWC_9mP2",
        "colab": {
          "base_uri": "https://localhost:8080/"
        },
        "outputId": "8b1dd1d4-46f5-4f91-b48c-d0e9688d69cb"
      },
      "execution_count": 1,
      "outputs": [
        {
          "output_type": "stream",
          "name": "stdout",
          "text": [
            "[10, 22, 30, 44, 66]\n"
          ]
        }
      ]
    },
    {
      "cell_type": "code",
      "source": [
        "lst1=[10,22,30,33,44,53,66]\n",
        "lst2=[]\n",
        "#[i for i in range() if ]\n"
      ],
      "metadata": {
        "id": "Fnkrfz1ny-eU"
      },
      "execution_count": null,
      "outputs": []
    },
    {
      "cell_type": "code",
      "source": [
        "fruits=['Banana','Mango','Apple','Kiwi','Gauva']\n"
      ],
      "metadata": {
        "id": "Xezm0QMmzScp"
      },
      "execution_count": null,
      "outputs": []
    },
    {
      "cell_type": "code",
      "source": [
        "dic={}\n",
        "dic={ 101:'Harsh',\n",
        "      102:'Nitin',\n",
        "      'subjects':['Maths','Physics','Python'],\n",
        "      'Marks':{'Maths':45,'Science':67}\n",
        "      }\n",
        "print(dic)\n"
      ],
      "metadata": {
        "colab": {
          "base_uri": "https://localhost:8080/"
        },
        "id": "VA7NtoNQ3dsN",
        "outputId": "1a2e1c83-8ff8-4241-b8be-7857ab13b431"
      },
      "execution_count": 4,
      "outputs": [
        {
          "output_type": "stream",
          "name": "stdout",
          "text": [
            "{101: 'Harsh', 102: 'Nitin', 'subjects': ['Maths', 'Physics', 'Python'], 'Marks': {'Maths': 45, 'Science': 67}}\n"
          ]
        }
      ]
    },
    {
      "cell_type": "code",
      "source": [
        "dic.keys()"
      ],
      "metadata": {
        "colab": {
          "base_uri": "https://localhost:8080/"
        },
        "id": "dP_GaA2A49Px",
        "outputId": "caf1395a-619c-445e-9a0d-868db19943e0"
      },
      "execution_count": 5,
      "outputs": [
        {
          "output_type": "execute_result",
          "data": {
            "text/plain": [
              "dict_keys([101, 102, 'subjects', 'Marks'])"
            ]
          },
          "metadata": {},
          "execution_count": 5
        }
      ]
    },
    {
      "cell_type": "code",
      "source": [
        "dic.items()"
      ],
      "metadata": {
        "colab": {
          "base_uri": "https://localhost:8080/"
        },
        "id": "xVBNF3Zt5BE5",
        "outputId": "9d1067c9-3fbf-44d3-94de-00a9f61abb88"
      },
      "execution_count": 6,
      "outputs": [
        {
          "output_type": "execute_result",
          "data": {
            "text/plain": [
              "dict_items([(101, 'Harsh'), (102, 'Nitin'), ('subjects', ['Maths', 'Physics', 'Python']), ('Marks', {'Maths': 45, 'Science': 67})])"
            ]
          },
          "metadata": {},
          "execution_count": 6
        }
      ]
    },
    {
      "cell_type": "code",
      "source": [
        "dic.values()"
      ],
      "metadata": {
        "colab": {
          "base_uri": "https://localhost:8080/"
        },
        "id": "RXsuXP9h5FVZ",
        "outputId": "02006cde-1041-4cb7-ea25-f85974ae46e8"
      },
      "execution_count": 7,
      "outputs": [
        {
          "output_type": "execute_result",
          "data": {
            "text/plain": [
              "dict_values(['Harsh', 'Nitin', ['Maths', 'Physics', 'Python'], {'Maths': 45, 'Science': 67}])"
            ]
          },
          "metadata": {},
          "execution_count": 7
        }
      ]
    },
    {
      "cell_type": "code",
      "source": [
        "dic_copy=dic\n",
        "dic_copy2=dic.copy()\n",
        "print(dic_copy)\n",
        "print(dic_copy2)"
      ],
      "metadata": {
        "id": "9bf6X06B5ghs",
        "outputId": "f7419513-34fa-459f-85a2-8794e0713e62",
        "colab": {
          "base_uri": "https://localhost:8080/"
        }
      },
      "execution_count": 9,
      "outputs": [
        {
          "output_type": "stream",
          "name": "stdout",
          "text": [
            "{101: 'Harsh', 102: 'Nitin', 'subjects': ['Maths', 'Physics', 'Python'], 'Marks': {'Maths': 45, 'Science': 67}}\n",
            "{101: 'Harsh', 102: 'Nitin', 'subjects': ['Maths', 'Physics', 'Python'], 'Marks': {'Maths': 45, 'Science': 67}}\n"
          ]
        }
      ]
    }
  ]
}
